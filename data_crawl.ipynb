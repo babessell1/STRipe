{
 "cells": [
  {
   "cell_type": "code",
   "execution_count": 76,
   "metadata": {},
   "outputs": [],
   "source": [
    "from ftplib import FTP\n",
    "import os\n",
    "import time\n",
    "\n",
    "def scrape_ftp_deep(ftp_url, start_idx=0):\n",
    "    # Parse the FTP URL to get the hostname and path\n",
    "    url_parts = ftp_url.split('/')\n",
    "    hostname = url_parts[2]\n",
    "    path = '/' + '/'.join(url_parts[3:])\n",
    "\n",
    "    # Connect to the FTP server\n",
    "    ftp = FTP(hostname)\n",
    "    ftp.login()\n",
    "\n",
    "    # Change the current working directory to the specified path\n",
    "    ftp.cwd(path)\n",
    "\n",
    "    # List the contents of the directory\n",
    "    folder_list = ftp.nlst()[start_idx:]\n",
    "\n",
    "    sample_names = []\n",
    "    urls = []\n",
    "    #print(len(folder_list))\n",
    "    for i, item in enumerate(folder_list):\n",
    "        #print(i, item)\n",
    "        if i >= 100:\n",
    "            return sample_names, urls\n",
    "        #print(item)\n",
    "        #try:\n",
    "        ftp.cwd(item)\n",
    "        #except:\n",
    "        #print(f\"error {item}\")\n",
    "        #    continue\n",
    "        #try:\n",
    "        cram_files = ftp.nlst(\"*.cram\")\n",
    "        cram_url = cram_files[0]\n",
    "            # Split the basename with \".\"\n",
    "        sample_name = cram_url.split(\"/\")[-1].split(\".\")[0]\n",
    "        sample_names.append(sample_name)\n",
    "        url = \"/\".join([\"https://ftp-trace.ncbi.nlm.nih.gov\",path,item, cram_files[0].strip(\"\\n\")])\n",
    "        urls.append(url)\n",
    "        #except:\n",
    "        #    print(f\"error {item}\")\n",
    "        ftp.cwd(path)\n",
    "        #    continue  \n",
    "        #ftp.cwd(path)\n",
    "\n",
    "    ftp.quit()\n",
    "\n",
    "    return sample_names, urls"
   ]
  },
  {
   "cell_type": "code",
   "execution_count": 77,
   "metadata": {},
   "outputs": [],
   "source": [
    "\n",
    "def scrape_ftp_low(ftp_url, start_idx=0):\n",
    "    # Parse the FTP URL to get the hostname and path\n",
    "    url_parts = ftp_url.split('/')\n",
    "    hostname = url_parts[2]\n",
    "    path = '/' + '/'.join(url_parts[3:])\n",
    "\n",
    "    # Connect to the FTP server\n",
    "    ftp = FTP(hostname)\n",
    "    ftp.login()\n",
    "\n",
    "    # Change the current working directory to the specified path\n",
    "    ftp.cwd(path)\n",
    "\n",
    "    # List the contents of the directory\n",
    "    folder_list = ftp.nlst()[start_idx:]\n",
    "\n",
    "    sample_names = []\n",
    "    urls = []\n",
    "    #print(len(folder_list))\n",
    "    for i, item in enumerate(folder_list):\n",
    "        #print(i, item)\n",
    "        if i >= 100:\n",
    "            return sample_names, urls\n",
    "        #print(item)\n",
    "        #try:\n",
    "        ftp.cwd(item)\n",
    "        ftp.cwd(\"alignment\")\n",
    "        #except:\n",
    "        #print(f\"error {item}\")\n",
    "        #    continue\n",
    "        #try:\n",
    "        bam_files = ftp.nlst(\"*.bam\")\n",
    "        bam_url = bam_files[0]\n",
    "            # Split the basename with \".\"\n",
    "        sample_name = bam_url.split(\"/\")[-1].split(\".\")[0]\n",
    "        sample_names.append(sample_name)\n",
    "        url = \"/\".join([path,item, bam_files[0].strip(\"\\n\")])\n",
    "        urls.append(url)\n",
    "        print(url)\n",
    "        #except:\n",
    "        #    print(f\"error {item}\")\n",
    "        ftp.cwd(path)\n",
    "        #    continue  \n",
    "        #ftp.cwd(path)\n",
    "\n",
    "    ftp.quit()\n",
    "    print(urls)\n",
    "\n",
    "    return (sample_names, urls)"
   ]
  },
  {
   "cell_type": "code",
   "execution_count": 78,
   "metadata": {},
   "outputs": [
    {
     "name": "stdout",
     "output_type": "stream",
     "text": [
      "100\n"
     ]
    }
   ],
   "source": [
    "x30_1kg_samples, x30_1kg_urls = scrape_ftp_deep(\"https://ftp-trace.ncbi.nlm.nih.gov/1000genomes/ftp/1000G_2504_high_coverage/additional_698_related/data/\", start_idx=0)\n",
    "time.sleep(5)\n",
    "for start_idx in range(100, 700, 100):\n",
    "    print(start_idx)\n",
    "    next_x30_1kg_samples, next_x30_1kg_urls = scrape_ftp_deep(\"https://ftp-trace.ncbi.nlm.nih.gov/1000genomes/ftp/1000G_2504_high_coverage/additional_698_related/data/\", start_idx=start_idx)\n",
    "    for sample, url in zip(next_x30_1kg_samples, next_x30_1kg_urls):\n",
    "        if sample not in x30_1kg_samples:\n",
    "            x30_1kg_samples.append(sample)\n",
    "            x30_1kg_urls.append(url)\n",
    "    print(len(x30_1kg_samples))\n",
    "    time.sleep(5)"
   ]
  },
  {
   "cell_type": "code",
   "execution_count": null,
   "metadata": {},
   "outputs": [
    {
     "name": "stdout",
     "output_type": "stream",
     "text": [
      "0\n",
      "798\n",
      "100\n",
      "898\n",
      "200\n",
      "998\n",
      "300\n",
      "1098\n",
      "400\n",
      "1198\n",
      "500\n",
      "1298\n",
      "600\n",
      "1398\n",
      "700\n",
      "1498\n",
      "800\n",
      "1598\n",
      "900\n",
      "1698\n",
      "1000\n",
      "1798\n",
      "1100\n",
      "1898\n",
      "1200\n",
      "1998\n",
      "1300\n",
      "2098\n",
      "1400\n",
      "2198\n",
      "1500\n",
      "2298\n",
      "1600\n",
      "2398\n",
      "1700\n",
      "2498\n",
      "1800\n",
      "2598\n",
      "1900\n",
      "2698\n",
      "2000\n",
      "2798\n",
      "2100\n",
      "2898\n",
      "2200\n",
      "2998\n",
      "2300\n",
      "3098\n",
      "2400\n",
      "3198\n",
      "2500\n",
      "3202\n"
     ]
    }
   ],
   "source": [
    "for start_idx in range(0, 2600, 100):\n",
    "    print(start_idx)\n",
    "    next_x30_1kg_samples, next_x30_1kg_urls = scrape_ftp_deep(\"https://ftp-trace.ncbi.nlm.nih.gov/1000genomes/ftp/1000G_2504_high_coverage/data/\", start_idx=start_idx)\n",
    "    for sample, url in zip(next_x30_1kg_samples, next_x30_1kg_urls):\n",
    "        if sample not in x30_1kg_samples:\n",
    "            x30_1kg_samples.append(sample)\n",
    "            x30_1kg_urls.append(url)\n",
    "    print(len(x30_1kg_samples))\n",
    "    time.sleep(5)"
   ]
  },
  {
   "cell_type": "code",
   "execution_count": null,
   "metadata": {},
   "outputs": [],
   "source": [
    "x30_1kg_urls += [\n",
    "    \"ftp://ftp-trace.ncbi.nlm.nih.gov/ReferenceSamples/giab/data/AshkenazimTrio/HG002_NA24385_son/NIST_HiSeq_HG002_Homogeneity-10953946/NHGRI_Illumina300X_AJtrio_novoalign_bams/HG002.GRCh38.300x.bam\",\n",
    "    \"ftp://ftp-trace.ncbi.nlm.nih.gov/ReferenceSamples/giab/data/AshkenazimTrio/HG003_NA24149_father/NIST_HiSeq_HG003_Homogeneity-12389378/NHGRI_Illumina300X_AJtrio_novoalign_bams/HG003.GRCh38.300x.bam\",\n",
    "    \"ftp://ftp-trace.ncbi.nlm.nih.gov/ReferenceSamples/giab/data/AshkenazimTrio/HG004_NA24143_mother/NIST_HiSeq_HG004_Homogeneity-14572558/NHGRI_Illumina300X_AJtrio_novoalign_bams/HG004.GRCh38.300x.bam\"\n",
    "]\n",
    "x30_1kg_samples += [\"HG002\", \"HG003\", \"HG004\"]"
   ]
  },
  {
   "cell_type": "code",
   "execution_count": null,
   "metadata": {},
   "outputs": [],
   "source": [
    "x30_1kg_dict = {}\n",
    "for sample, url in zip(x30_1kg_samples, x30_1kg_urls):\n",
    "    x30_1kg_dict[sample] = url"
   ]
  },
  {
   "cell_type": "code",
   "execution_count": null,
   "metadata": {},
   "outputs": [
    {
     "name": "stdout",
     "output_type": "stream",
     "text": [
      "3205\n"
     ]
    }
   ],
   "source": [
    "print(len(x30_1kg_dict))"
   ]
  },
  {
   "cell_type": "code",
   "execution_count": null,
   "metadata": {},
   "outputs": [],
   "source": [
    "'''\n",
    "x3_1kg_samples = scrape_ftp_low(\"https://ftp-trace.ncbi.nlm.nih.gov/1000genomes/ftp/phase3/data/\", start_idx=0)\n",
    "print(len(x3_1kg_samples))\n",
    "time.sleep(5)\n",
    "for start_idx in range(100, 3000, 100):\n",
    "    print(start_idx)\n",
    "    k1g_samples = k1g_samples + scrape_ftp_low(\"https://ftp-trace.ncbi.nlm.nih.gov/1000genomes/ftp/phase3/data/\", start_idx=start_idx)\n",
    "    print(len(k1g_samples))\n",
    "    time.sleep(5)\n",
    "'''"
   ]
  },
  {
   "cell_type": "code",
   "execution_count": null,
   "metadata": {},
   "outputs": [],
   "source": [
    "'''\n",
    "x3_1kg_samples = set(x3_1kg_samples)\n",
    "print(len(x3_1kg_samples))\n",
    "print(len([samp for samp in x3_1kg_samples if samp not in x30_1kg_samples]))\n",
    "'''"
   ]
  },
  {
   "cell_type": "code",
   "execution_count": null,
   "metadata": {},
   "outputs": [],
   "source": [
    "# get urls from hifi_proc.txt\n",
    "with open(\"hifi_proc.txt\") as f:\n",
    "    hifi_urls = f.readlines()\n",
    "\n",
    "# 'https://s3-us-west-2.amazonaws.com/human-pangenomics/index.html?prefix=working/HPRC/HG00438/\\n\n",
    "hifi_samples = [url.strip(\"\\n\").strip(\"/\").split(\"/\")[-1] for url in hifi_urls]"
   ]
  },
  {
   "cell_type": "code",
   "execution_count": null,
   "metadata": {},
   "outputs": [],
   "source": [
    "hifi_urls += [\n",
    "    \"https://downloads.pacbcloud.com/public/revio/2022Q4/HG002-rep1/analysis/HG002.m84011_220902_175841_s1.GRCh38.bam\",\n",
    "    \"https://downloads.pacbcloud.com/public/revio/2022Q4/HG003-rep1/analysis/HG003.m84010_220919_235306_s2.GRCh38.bam\",\n",
    "    \"https://downloads.pacbcloud.com/public/revio/2022Q4/HG004-rep1/analysis/HG004.m84010_220919_232145_s1.GRCh38.bam\"\n",
    "]\n",
    "hifi_samples += [\"HG002\", \"HG003\", \"HG004\"]\n"
   ]
  },
  {
   "cell_type": "code",
   "execution_count": null,
   "metadata": {},
   "outputs": [],
   "source": [
    "hifi_dict_overlaps = {}\n",
    "x30_1kg_dict_overlaps = {}\n",
    "for sample, url in zip(hifi_samples, hifi_urls):\n",
    "    if sample in list(x30_1kg_dict.keys()):\n",
    "        x30_1kg_dict_overlaps[sample] = x30_1kg_dict[sample]\n",
    "        hifi_dict_overlaps[sample] = url"
   ]
  },
  {
   "cell_type": "code",
   "execution_count": null,
   "metadata": {},
   "outputs": [],
   "source": [
    "print(len(hifi_dict_overlaps))\n",
    "print(len(x30_1kg_dict_overlaps))"
   ]
  },
  {
   "cell_type": "code",
   "execution_count": null,
   "metadata": {},
   "outputs": [],
   "source": [
    "# create manifests\n",
    "\n",
    "with open(\"manifests/hifi_manifest.csv\", \"w\") as f:\n",
    "    f.write(\"sample_name,haplotype,file_num,datatype,long_read_url\\n\")\n",
    "    for sample, url in hifi_dict_overlaps.items():\n",
    "        f.write(f\"{sample},NA,1,HIFI,{url}\\n\")"
   ]
  },
  {
   "cell_type": "code",
   "execution_count": null,
   "metadata": {},
   "outputs": [],
   "source": [
    "with open(\"manifests/illumina_manifest.csv\", \"w\") as f:\n",
    "    f.write(\"sample_name,haplotype,file_num,datatype,short_read_url\\n\")\n",
    "    for sample, url in x30_1kg_dict_overlaps.items():\n",
    "        f.write(f\"{sample},NA,1,short,{url}\\n\")"
   ]
  },
  {
   "cell_type": "code",
   "execution_count": null,
   "metadata": {},
   "outputs": [
    {
     "name": "stdout",
     "output_type": "stream",
     "text": [
      "41\n"
     ]
    }
   ],
   "source": [
    "overlapping_samples = [sample for sample in hifi_samples if sample in x30_1kg_samples]\n",
    "#overlapping_low_extra = [sample for sample in hifi_samples if sample in x3_1kg_samples and sample not in x30_1kg_samples]\n",
    "print(len(overlapping_samples))\n",
    "#print(len(overlapping_low_extra))"
   ]
  },
  {
   "cell_type": "code",
   "execution_count": null,
   "metadata": {},
   "outputs": [
    {
     "name": "stdout",
     "output_type": "stream",
     "text": [
      "41\n"
     ]
    }
   ],
   "source": [
    "double_check = set(x30_1kg_samples).intersection(set(hifi_samples))\n",
    "print(len(double_check))"
   ]
  },
  {
   "cell_type": "code",
   "execution_count": null,
   "metadata": {},
   "outputs": [],
   "source": []
  }
 ],
 "metadata": {
  "kernelspec": {
   "display_name": "bioinf593",
   "language": "python",
   "name": "python3"
  },
  "language_info": {
   "codemirror_mode": {
    "name": "ipython",
    "version": 3
   },
   "file_extension": ".py",
   "mimetype": "text/x-python",
   "name": "python",
   "nbconvert_exporter": "python",
   "pygments_lexer": "ipython3",
   "version": "3.11.4"
  }
 },
 "nbformat": 4,
 "nbformat_minor": 2
}
